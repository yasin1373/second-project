{
 "cells": [
  {
   "cell_type": "code",
   "execution_count": null,
   "id": "9e2557d2",
   "metadata": {},
   "outputs": [],
   "source": [
    "# Load libraries\n",
    "import pandas as pd\n",
    "from sklearn.preprocessing import MinMaxScaler\n",
    "from sklearn.decomposition import PCA  \n",
    "from sklearn.linear_model import Lasso\n",
    "from sklearn.model_selection import KFold\n",
    "from sklearn.metrics import mean_squared_error\n",
    "from sklearn.pipeline import Pipeline\n",
    "\n",
    "# Load and prepare data\n",
    "df = pd.read_csv(\"data.csv\") \n",
    "X = df.iloc[:, 0:16].values\n",
    "y = df.iloc[:, 16].values\n",
    "\n",
    "# Define pipeline steps\n",
    "steps = [('scaler', MinMaxScaler()), \n",
    "         ('pca', PCA()),\n",
    "         ('model', Lasso())]\n",
    "\n",
    "# Create pipeline dictionary\n",
    "pipelines = {}\n",
    "for i in range(1,17):\n",
    "    pipe = Pipeline(steps=steps)\n",
    "    pipelines[f'model{i}'] = pipe\n",
    "    \n",
    "# Function for cross validation\n",
    "def evaluate_model(model, X, y):\n",
    "    cv = KFold(n_splits=10, shuffle=True, random_state=1) \n",
    "    scores = cross_val_score(model, X, y, \n",
    "                             scoring='neg_mean_squared_error', \n",
    "                             cv=cv, n_jobs=-1)\n",
    "    return scores\n",
    "\n",
    "# Evaluate each model\n",
    "results = []\n",
    "for name, model in pipelines.items():\n",
    "    scores = evaluate_model(model, X, y)\n",
    "    results.append(scores)\n",
    "    print(f\"{name} CV MSE: {-1*scores.mean():.3f} (+/- {scores.std():.3f})\")"
   ]
  }
 ],
 "metadata": {
  "kernelspec": {
   "display_name": "Python 3 (ipykernel)",
   "language": "python",
   "name": "python3"
  },
  "language_info": {
   "codemirror_mode": {
    "name": "ipython",
    "version": 3
   },
   "file_extension": ".py",
   "mimetype": "text/x-python",
   "name": "python",
   "nbconvert_exporter": "python",
   "pygments_lexer": "ipython3",
   "version": "3.10.9"
  },
  "vp": {
   "vp_config_version": "1.0.0",
   "vp_menu_width": 273,
   "vp_note_display": false,
   "vp_note_width": 0,
   "vp_position": {
    "width": 278
   },
   "vp_section_display": false,
   "vp_signature": "VisualPython"
  }
 },
 "nbformat": 4,
 "nbformat_minor": 5
}
