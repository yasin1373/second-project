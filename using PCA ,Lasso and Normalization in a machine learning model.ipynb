{
 "cells": [
  {
   "cell_type": "code",
   "execution_count": null,
   "id": "096b5eb1",
   "metadata": {},
   "outputs": [],
   "source": [
    "import pandas as pd\n",
    "path=r\"C:\\Users\\acer\\Desktop\\Data\\edited.csv\"\n",
    "dataframe=pd.read_csv(path,low_memory=False)\n",
    "gdata=dataframe.iloc[0:,364:380]\n",
    "fdata=dataframe.iloc[0:,[380,381,382,383]]\n",
    "new = pd.concat([gdata, fdata], axis=1)\n",
    "new_edited=new.dropna(subset=['Indata','Unnamed: 381','Unnamed: 382','Unnamed: 383']).reset_index(drop=True)\n",
    "new_edited=new_edited.drop([0,1]).reset_index(drop=True)\n",
    "dataset=new_edited.values\n",
    "X = dataset[:,0:16].astype('float')\n",
    "Y = dataset[:,16].astype('float')"
   ]
  },
  {
   "cell_type": "code",
   "execution_count": null,
   "id": "2553a728",
   "metadata": {},
   "outputs": [],
   "source": [
    "from numpy import mean\n",
    "from numpy import std\n",
    "from sklearn.datasets import make_classification\n",
    "from sklearn.model_selection import cross_val_score\n",
    "from sklearn.model_selection import RepeatedStratifiedKFold\n",
    "from sklearn.pipeline import Pipeline\n",
    "from sklearn.decomposition import PCA\n",
    "from sklearn.linear_model import LogisticRegression\n",
    "from matplotlib import pyplot\n",
    "from sklearn.preprocessing import MinMaxScaler\n",
    "from sklearn.linear_model import Lasso\n",
    "from sklearn.model_selection import KFold"
   ]
  },
  {
   "cell_type": "code",
   "execution_count": null,
   "id": "63031cd8",
   "metadata": {},
   "outputs": [],
   "source": [
    "def get_models():\n",
    "  models = dict()\n",
    "  for i in range(1,17):\n",
    "    steps = [('norm', MinMaxScaler()), ('pca', PCA()), ('lasso', Lasso())]\n",
    "    models[str(i)] = Pipeline(steps=steps)\n",
    "  return models"
   ]
  },
  {
   "cell_type": "code",
   "execution_count": null,
   "id": "4be59b33",
   "metadata": {},
   "outputs": [],
   "source": [
    "def evaluate_model(model, X, y):\n",
    "  cv = cv = KFold(n_splits=10, shuffle=True, random_state=1)\n",
    "\n",
    "  scores = cross_val_score(model, X, y, scoring='neg_root_mean_squared_error', cv=cv, n_jobs=-1)\n",
    "  return scores"
   ]
  },
  {
   "cell_type": "code",
   "execution_count": null,
   "id": "77ca9bd3",
   "metadata": {},
   "outputs": [],
   "source": [
    "models = get_models()\n",
    "results, names = list(), list()\n",
    "for name, model in models.items():\n",
    "  scores = evaluate_model(model, X, Y)\n",
    "  results.append(scores)\n",
    "  names.append(name)\n",
    "  mean(scores)"
   ]
  }
 ],
 "metadata": {
  "kernelspec": {
   "display_name": "Python 3 (ipykernel)",
   "language": "python",
   "name": "python3"
  },
  "language_info": {
   "codemirror_mode": {
    "name": "ipython",
    "version": 3
   },
   "file_extension": ".py",
   "mimetype": "text/x-python",
   "name": "python",
   "nbconvert_exporter": "python",
   "pygments_lexer": "ipython3",
   "version": "3.9.12"
  }
 },
 "nbformat": 4,
 "nbformat_minor": 5
}
